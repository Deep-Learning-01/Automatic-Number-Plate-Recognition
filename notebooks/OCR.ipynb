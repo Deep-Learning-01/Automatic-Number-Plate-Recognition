{
 "cells": [
  {
   "cell_type": "markdown",
   "id": "9947cd78",
   "metadata": {},
   "source": [
    "### Check CUDA version"
   ]
  },
  {
   "cell_type": "code",
   "execution_count": 1,
   "id": "9d2cbd23",
   "metadata": {},
   "outputs": [
    {
     "name": "stdout",
     "output_type": "stream",
     "text": [
      "nvcc: NVIDIA (R) Cuda compiler driver\n",
      "Copyright (c) 2005-2020 NVIDIA Corporation\n",
      "Built on Mon_Nov_30_19:15:10_Pacific_Standard_Time_2020\n",
      "Cuda compilation tools, release 11.2, V11.2.67\n",
      "Build cuda_11.2.r11.2/compiler.29373293_0\n"
     ]
    }
   ],
   "source": [
    "!nvcc  --version"
   ]
  },
  {
   "cell_type": "markdown",
   "id": "26157629",
   "metadata": {},
   "source": [
    "### Install CUDA11.2 PaddlePaddle"
   ]
  },
  {
   "cell_type": "code",
   "execution_count": 2,
   "id": "2d4c04ff",
   "metadata": {},
   "outputs": [
    {
     "name": "stdout",
     "output_type": "stream",
     "text": [
      "Looking in links: https://www.paddlepaddle.org.cn/whl/windows/mkl/avx/stable.html\n",
      "Requirement already satisfied: paddlepaddle-gpu==2.3.2.post112 in e:\\ineuron_data\\cv\\anpr_test\\anpr_test\\lib\\site-packages (2.3.2.post112)\n",
      "Requirement already satisfied: Pillow in e:\\ineuron_data\\cv\\anpr_test\\anpr_test\\lib\\site-packages (from paddlepaddle-gpu==2.3.2.post112) (9.3.0)\n",
      "Requirement already satisfied: opt-einsum==3.3.0 in e:\\ineuron_data\\cv\\anpr_test\\anpr_test\\lib\\site-packages (from paddlepaddle-gpu==2.3.2.post112) (3.3.0)\n",
      "Requirement already satisfied: numpy>=1.13 in e:\\ineuron_data\\cv\\anpr_test\\anpr_test\\lib\\site-packages (from paddlepaddle-gpu==2.3.2.post112) (1.23.4)\n",
      "Requirement already satisfied: six in e:\\ineuron_data\\cv\\anpr_test\\anpr_test\\lib\\site-packages (from paddlepaddle-gpu==2.3.2.post112) (1.16.0)\n",
      "Requirement already satisfied: decorator in e:\\ineuron_data\\cv\\anpr_test\\anpr_test\\lib\\site-packages (from paddlepaddle-gpu==2.3.2.post112) (5.1.1)\n",
      "Requirement already satisfied: astor in e:\\ineuron_data\\cv\\anpr_test\\anpr_test\\lib\\site-packages (from paddlepaddle-gpu==2.3.2.post112) (0.8.1)\n",
      "Requirement already satisfied: requests>=2.20.0 in e:\\ineuron_data\\cv\\anpr_test\\anpr_test\\lib\\site-packages (from paddlepaddle-gpu==2.3.2.post112) (2.28.1)\n",
      "Requirement already satisfied: protobuf<=3.20.0,>=3.1.0 in e:\\ineuron_data\\cv\\anpr_test\\anpr_test\\lib\\site-packages (from paddlepaddle-gpu==2.3.2.post112) (3.19.6)\n",
      "Requirement already satisfied: paddle-bfloat==0.1.7 in c:\\users\\satya\\anaconda3\\lib\\site-packages (from paddlepaddle-gpu==2.3.2.post112) (0.1.7)\n",
      "Requirement already satisfied: charset-normalizer<3,>=2 in e:\\ineuron_data\\cv\\anpr_test\\anpr_test\\lib\\site-packages (from requests>=2.20.0->paddlepaddle-gpu==2.3.2.post112) (2.1.1)\n",
      "Requirement already satisfied: idna<4,>=2.5 in e:\\ineuron_data\\cv\\anpr_test\\anpr_test\\lib\\site-packages (from requests>=2.20.0->paddlepaddle-gpu==2.3.2.post112) (3.4)\n",
      "Requirement already satisfied: certifi>=2017.4.17 in e:\\ineuron_data\\cv\\anpr_test\\anpr_test\\lib\\site-packages (from requests>=2.20.0->paddlepaddle-gpu==2.3.2.post112) (2022.9.24)\n",
      "Requirement already satisfied: urllib3<1.27,>=1.21.1 in e:\\ineuron_data\\cv\\anpr_test\\anpr_test\\lib\\site-packages (from requests>=2.20.0->paddlepaddle-gpu==2.3.2.post112) (1.26.12)\n"
     ]
    },
    {
     "name": "stderr",
     "output_type": "stream",
     "text": [
      "WARNING: Ignoring invalid distribution -addlepaddle-gpu (e:\\ineuron_data\\cv\\anpr_test\\anpr_test\\lib\\site-packages)\n",
      "WARNING: Ignoring invalid distribution -addlepaddle-gpu (e:\\ineuron_data\\cv\\anpr_test\\anpr_test\\lib\\site-packages)\n",
      "WARNING: Ignoring invalid distribution -addlepaddle-gpu (e:\\ineuron_data\\cv\\anpr_test\\anpr_test\\lib\\site-packages)\n",
      "WARNING: Ignoring invalid distribution -addlepaddle-gpu (e:\\ineuron_data\\cv\\anpr_test\\anpr_test\\lib\\site-packages)\n",
      "WARNING: Ignoring invalid distribution -addlepaddle-gpu (e:\\ineuron_data\\cv\\anpr_test\\anpr_test\\lib\\site-packages)\n",
      "WARNING: Ignoring invalid distribution -addlepaddle-gpu (e:\\ineuron_data\\cv\\anpr_test\\anpr_test\\lib\\site-packages)\n"
     ]
    }
   ],
   "source": [
    "!pip install paddlepaddle-gpu==2.3.2.post112 -f https://www.paddlepaddle.org.cn/whl/windows/mkl/avx/stable.html"
   ]
  },
  {
   "cell_type": "markdown",
   "id": "c18adf00",
   "metadata": {},
   "source": [
    "### Install paddle OCR"
   ]
  },
  {
   "cell_type": "code",
   "execution_count": 3,
   "id": "9007eed5",
   "metadata": {},
   "outputs": [
    {
     "name": "stdout",
     "output_type": "stream",
     "text": [
      "Requirement already satisfied: paddleocr in e:\\ineuron_data\\cv\\anpr_test\\anpr_test\\lib\\site-packages (2.6.1.0)\n",
      "Requirement already satisfied: numpy in e:\\ineuron_data\\cv\\anpr_test\\anpr_test\\lib\\site-packages (from paddleocr) (1.23.4)\n",
      "Requirement already satisfied: fire>=0.3.0 in c:\\users\\satya\\anaconda3\\lib\\site-packages (from paddleocr) (0.4.0)\n",
      "Requirement already satisfied: premailer in c:\\users\\satya\\anaconda3\\lib\\site-packages (from paddleocr) (3.10.0)\n",
      "Requirement already satisfied: cython in c:\\users\\satya\\anaconda3\\lib\\site-packages (from paddleocr) (0.29.32)\n",
      "Requirement already satisfied: attrdict in c:\\users\\satya\\anaconda3\\lib\\site-packages (from paddleocr) (2.0.1)\n",
      "Requirement already satisfied: tqdm in e:\\ineuron_data\\cv\\anpr_test\\anpr_test\\lib\\site-packages (from paddleocr) (4.64.1)\n",
      "Requirement already satisfied: shapely in e:\\ineuron_data\\cv\\anpr_test\\anpr_test\\lib\\site-packages (from paddleocr) (1.8.5.post1)\n",
      "Requirement already satisfied: lxml in c:\\users\\satya\\anaconda3\\lib\\site-packages (from paddleocr) (4.9.1)\n",
      "Requirement already satisfied: scikit-image in e:\\ineuron_data\\cv\\anpr_test\\anpr_test\\lib\\site-packages (from paddleocr) (0.19.3)\n",
      "Requirement already satisfied: visualdl in c:\\users\\satya\\anaconda3\\lib\\site-packages (from paddleocr) (2.4.1)\n",
      "Requirement already satisfied: imgaug in c:\\users\\satya\\anaconda3\\lib\\site-packages (from paddleocr) (0.4.0)\n",
      "Requirement already satisfied: lanms-neo==1.0.2 in e:\\ineuron_data\\cv\\anpr_test\\anpr_test\\lib\\site-packages (from paddleocr) (1.0.2)\n",
      "Requirement already satisfied: PyMuPDF==1.19.0 in e:\\ineuron_data\\cv\\anpr_test\\anpr_test\\lib\\site-packages (from paddleocr) (1.19.0)\n",
      "Requirement already satisfied: openpyxl in c:\\users\\satya\\anaconda3\\lib\\site-packages (from paddleocr) (3.0.10)\n",
      "Requirement already satisfied: opencv-python in e:\\ineuron_data\\cv\\anpr_test\\anpr_test\\lib\\site-packages (from paddleocr) (4.6.0.66)\n",
      "Requirement already satisfied: fonttools>=4.24.0 in e:\\ineuron_data\\cv\\anpr_test\\anpr_test\\lib\\site-packages (from paddleocr) (4.38.0)\n",
      "Requirement already satisfied: pdf2docx in c:\\users\\satya\\anaconda3\\lib\\site-packages (from paddleocr) (0.5.6)\n",
      "Requirement already satisfied: python-docx in c:\\users\\satya\\anaconda3\\lib\\site-packages (from paddleocr) (0.8.11)\n",
      "Requirement already satisfied: rapidfuzz in e:\\ineuron_data\\cv\\anpr_test\\anpr_test\\lib\\site-packages (from paddleocr) (2.13.2)\n",
      "Requirement already satisfied: lmdb in e:\\ineuron_data\\cv\\anpr_test\\anpr_test\\lib\\site-packages (from paddleocr) (1.3.0)\n",
      "Requirement already satisfied: beautifulsoup4 in c:\\users\\satya\\anaconda3\\lib\\site-packages (from paddleocr) (4.11.1)\n",
      "Requirement already satisfied: pyclipper in e:\\ineuron_data\\cv\\anpr_test\\anpr_test\\lib\\site-packages (from paddleocr) (1.3.0.post3)\n",
      "Requirement already satisfied: Polygon3 in e:\\ineuron_data\\cv\\anpr_test\\anpr_test\\lib\\site-packages (from paddleocr) (3.0.9.1)\n",
      "Requirement already satisfied: opencv-contrib-python in c:\\users\\satya\\anaconda3\\lib\\site-packages (from paddleocr) (4.6.0.66)\n",
      "Requirement already satisfied: termcolor in e:\\ineuron_data\\cv\\anpr_test\\anpr_test\\lib\\site-packages (from fire>=0.3.0->paddleocr) (2.1.0)\n",
      "Requirement already satisfied: six in e:\\ineuron_data\\cv\\anpr_test\\anpr_test\\lib\\site-packages (from fire>=0.3.0->paddleocr) (1.16.0)\n",
      "Requirement already satisfied: soupsieve>1.2 in e:\\ineuron_data\\cv\\anpr_test\\anpr_test\\lib\\site-packages (from beautifulsoup4->paddleocr) (2.3.2.post1)\n",
      "Requirement already satisfied: scipy in e:\\ineuron_data\\cv\\anpr_test\\anpr_test\\lib\\site-packages (from imgaug->paddleocr) (1.9.3)\n",
      "Requirement already satisfied: imageio in e:\\ineuron_data\\cv\\anpr_test\\anpr_test\\lib\\site-packages (from imgaug->paddleocr) (2.22.4)\n",
      "Requirement already satisfied: matplotlib in e:\\ineuron_data\\cv\\anpr_test\\anpr_test\\lib\\site-packages (from imgaug->paddleocr) (3.6.2)\n",
      "Requirement already satisfied: Pillow in e:\\ineuron_data\\cv\\anpr_test\\anpr_test\\lib\\site-packages (from imgaug->paddleocr) (9.3.0)\n",
      "Requirement already satisfied: tifffile>=2019.7.26 in e:\\ineuron_data\\cv\\anpr_test\\anpr_test\\lib\\site-packages (from scikit-image->paddleocr) (2022.10.10)\n",
      "Requirement already satisfied: packaging>=20.0 in e:\\ineuron_data\\cv\\anpr_test\\anpr_test\\lib\\site-packages (from scikit-image->paddleocr) (21.3)\n",
      "Requirement already satisfied: PyWavelets>=1.1.1 in e:\\ineuron_data\\cv\\anpr_test\\anpr_test\\lib\\site-packages (from scikit-image->paddleocr) (1.4.1)\n",
      "Requirement already satisfied: networkx>=2.2 in e:\\ineuron_data\\cv\\anpr_test\\anpr_test\\lib\\site-packages (from scikit-image->paddleocr) (2.8.8)\n",
      "Requirement already satisfied: et_xmlfile in c:\\users\\satya\\anaconda3\\lib\\site-packages (from openpyxl->paddleocr) (1.1.0)\n",
      "Requirement already satisfied: cachetools in e:\\ineuron_data\\cv\\anpr_test\\anpr_test\\lib\\site-packages (from premailer->paddleocr) (5.2.0)\n",
      "Requirement already satisfied: cssselect in c:\\users\\satya\\anaconda3\\lib\\site-packages (from premailer->paddleocr) (1.1.0)\n",
      "Requirement already satisfied: requests in e:\\ineuron_data\\cv\\anpr_test\\anpr_test\\lib\\site-packages (from premailer->paddleocr) (2.28.1)\n",
      "Requirement already satisfied: cssutils in c:\\users\\satya\\anaconda3\\lib\\site-packages (from premailer->paddleocr) (2.6.0)\n",
      "Requirement already satisfied: colorama in e:\\ineuron_data\\cv\\anpr_test\\anpr_test\\lib\\site-packages (from tqdm->paddleocr) (0.4.6)\n",
      "Requirement already satisfied: multiprocess in c:\\users\\satya\\anaconda3\\lib\\site-packages (from visualdl->paddleocr) (0.70.14)\n",
      "Requirement already satisfied: Flask-Babel>=1.0.0 in c:\\users\\satya\\anaconda3\\lib\\site-packages (from visualdl->paddleocr) (2.0.0)\n",
      "Requirement already satisfied: flask>=1.1.1 in c:\\users\\satya\\anaconda3\\lib\\site-packages (from visualdl->paddleocr) (1.1.2)\n",
      "Requirement already satisfied: pandas in e:\\ineuron_data\\cv\\anpr_test\\anpr_test\\lib\\site-packages (from visualdl->paddleocr) (1.5.1)\n",
      "Requirement already satisfied: bce-python-sdk in c:\\users\\satya\\anaconda3\\lib\\site-packages (from visualdl->paddleocr) (0.8.74)\n",
      "Requirement already satisfied: protobuf>=3.11.0 in e:\\ineuron_data\\cv\\anpr_test\\anpr_test\\lib\\site-packages (from visualdl->paddleocr) (3.19.6)\n",
      "Requirement already satisfied: click>=5.1 in c:\\users\\satya\\anaconda3\\lib\\site-packages (from flask>=1.1.1->visualdl->paddleocr) (8.0.4)\n",
      "Requirement already satisfied: Werkzeug>=0.15 in e:\\ineuron_data\\cv\\anpr_test\\anpr_test\\lib\\site-packages (from flask>=1.1.1->visualdl->paddleocr) (2.2.2)\n",
      "Requirement already satisfied: itsdangerous>=0.24 in c:\\users\\satya\\anaconda3\\lib\\site-packages (from flask>=1.1.1->visualdl->paddleocr) (2.0.1)\n",
      "Requirement already satisfied: Jinja2>=2.10.1 in c:\\users\\satya\\anaconda3\\lib\\site-packages (from flask>=1.1.1->visualdl->paddleocr) (2.11.3)\n",
      "Requirement already satisfied: pytz in e:\\ineuron_data\\cv\\anpr_test\\anpr_test\\lib\\site-packages (from Flask-Babel>=1.0.0->visualdl->paddleocr) (2022.6)\n",
      "Requirement already satisfied: Babel>=2.3 in c:\\users\\satya\\anaconda3\\lib\\site-packages (from Flask-Babel>=1.0.0->visualdl->paddleocr) (2.9.1)\n",
      "Requirement already satisfied: pyparsing!=3.0.5,>=2.0.2 in e:\\ineuron_data\\cv\\anpr_test\\anpr_test\\lib\\site-packages (from packaging>=20.0->scikit-image->paddleocr) (3.0.9)\n",
      "Requirement already satisfied: pycryptodome>=3.8.0 in e:\\ineuron_data\\cv\\anpr_test\\anpr_test\\lib\\site-packages (from bce-python-sdk->visualdl->paddleocr) (3.15.0)\n",
      "Requirement already satisfied: future>=0.6.0 in c:\\users\\satya\\anaconda3\\lib\\site-packages (from bce-python-sdk->visualdl->paddleocr) (0.18.2)\n",
      "Requirement already satisfied: contourpy>=1.0.1 in e:\\ineuron_data\\cv\\anpr_test\\anpr_test\\lib\\site-packages (from matplotlib->imgaug->paddleocr) (1.0.6)\n",
      "Requirement already satisfied: cycler>=0.10 in e:\\ineuron_data\\cv\\anpr_test\\anpr_test\\lib\\site-packages (from matplotlib->imgaug->paddleocr) (0.11.0)\n",
      "Requirement already satisfied: kiwisolver>=1.0.1 in e:\\ineuron_data\\cv\\anpr_test\\anpr_test\\lib\\site-packages (from matplotlib->imgaug->paddleocr) (1.4.4)\n",
      "Requirement already satisfied: python-dateutil>=2.7 in e:\\ineuron_data\\cv\\anpr_test\\anpr_test\\lib\\site-packages (from matplotlib->imgaug->paddleocr) (2.8.2)\n",
      "Requirement already satisfied: dill>=0.3.6 in c:\\users\\satya\\anaconda3\\lib\\site-packages (from multiprocess->visualdl->paddleocr) (0.3.6)\n",
      "Requirement already satisfied: idna<4,>=2.5 in e:\\ineuron_data\\cv\\anpr_test\\anpr_test\\lib\\site-packages (from requests->premailer->paddleocr) (3.4)\n",
      "Requirement already satisfied: charset-normalizer<3,>=2 in e:\\ineuron_data\\cv\\anpr_test\\anpr_test\\lib\\site-packages (from requests->premailer->paddleocr) (2.1.1)\n",
      "Requirement already satisfied: urllib3<1.27,>=1.21.1 in e:\\ineuron_data\\cv\\anpr_test\\anpr_test\\lib\\site-packages (from requests->premailer->paddleocr) (1.26.12)\n",
      "Requirement already satisfied: certifi>=2017.4.17 in e:\\ineuron_data\\cv\\anpr_test\\anpr_test\\lib\\site-packages (from requests->premailer->paddleocr) (2022.9.24)\n",
      "Requirement already satisfied: MarkupSafe>=0.23 in e:\\ineuron_data\\cv\\anpr_test\\anpr_test\\lib\\site-packages (from Jinja2>=2.10.1->flask>=1.1.1->visualdl->paddleocr) (2.1.1)\n"
     ]
    },
    {
     "name": "stderr",
     "output_type": "stream",
     "text": [
      "WARNING: Ignoring invalid distribution -addlepaddle-gpu (e:\\ineuron_data\\cv\\anpr_test\\anpr_test\\lib\\site-packages)\n",
      "WARNING: Ignoring invalid distribution -addlepaddle-gpu (e:\\ineuron_data\\cv\\anpr_test\\anpr_test\\lib\\site-packages)\n",
      "WARNING: Ignoring invalid distribution -addlepaddle-gpu (e:\\ineuron_data\\cv\\anpr_test\\anpr_test\\lib\\site-packages)\n",
      "WARNING: Ignoring invalid distribution -addlepaddle-gpu (e:\\ineuron_data\\cv\\anpr_test\\anpr_test\\lib\\site-packages)\n",
      "WARNING: Ignoring invalid distribution -addlepaddle-gpu (e:\\ineuron_data\\cv\\anpr_test\\anpr_test\\lib\\site-packages)\n",
      "WARNING: Ignoring invalid distribution -addlepaddle-gpu (e:\\ineuron_data\\cv\\anpr_test\\anpr_test\\lib\\site-packages)\n"
     ]
    }
   ],
   "source": [
    "!pip install paddleocr"
   ]
  },
  {
   "cell_type": "markdown",
   "id": "69a9b5e4",
   "metadata": {},
   "source": [
    "### Clone paddle OCR repo - get FONTS for visualization"
   ]
  },
  {
   "cell_type": "code",
   "execution_count": 4,
   "id": "46a90486",
   "metadata": {},
   "outputs": [
    {
     "name": "stderr",
     "output_type": "stream",
     "text": [
      "fatal: destination path 'PaddleOCR' already exists and is not an empty directory.\n"
     ]
    }
   ],
   "source": [
    "!git clone https://github.com/PaddlePaddle/PaddleOCR"
   ]
  },
  {
   "cell_type": "markdown",
   "id": "c79478b2",
   "metadata": {},
   "source": [
    "### Import Dependencies"
   ]
  },
  {
   "cell_type": "code",
   "execution_count": 1,
   "id": "ed88b21f",
   "metadata": {},
   "outputs": [],
   "source": [
    "from paddleocr import PaddleOCR, draw_ocr\n",
    "from PIL import Image\n",
    "import matplotlib.pyplot as plt\n",
    "import cv2\n",
    "import os,io,sys\n",
    "import numpy as np"
   ]
  },
  {
   "cell_type": "markdown",
   "id": "e62f17ee",
   "metadata": {},
   "source": [
    "### Instantiate Model and Detect"
   ]
  },
  {
   "cell_type": "code",
   "execution_count": 2,
   "id": "60769e16",
   "metadata": {},
   "outputs": [
    {
     "name": "stdout",
     "output_type": "stream",
     "text": [
      "[2022/11/20 16:12:52] ppocr DEBUG: Namespace(help='==SUPPRESS==', use_gpu=True, use_xpu=False, use_npu=False, ir_optim=True, use_tensorrt=False, min_subgraph_size=15, precision='fp32', gpu_mem=500, image_dir=None, page_num=0, det_algorithm='DB', det_model_dir='C:\\\\Users\\\\Satya/.paddleocr/whl\\\\det\\\\en\\\\en_PP-OCRv3_det_infer', det_limit_side_len=960, det_limit_type='max', det_box_type='quad', det_db_thresh=0.3, det_db_box_thresh=0.6, det_db_unclip_ratio=1.5, max_batch_size=10, use_dilation=False, det_db_score_mode='fast', det_east_score_thresh=0.8, det_east_cover_thresh=0.1, det_east_nms_thresh=0.2, det_sast_score_thresh=0.5, det_sast_nms_thresh=0.2, det_pse_thresh=0, det_pse_box_thresh=0.85, det_pse_min_area=16, det_pse_scale=1, scales=[8, 16, 32], alpha=1.0, beta=1.0, fourier_degree=5, rec_algorithm='SVTR_LCNet', rec_model_dir='C:\\\\Users\\\\Satya/.paddleocr/whl\\\\rec\\\\en\\\\en_PP-OCRv3_rec_infer', rec_image_inverse=True, rec_image_shape='3, 48, 320', rec_batch_num=6, max_text_length=25, rec_char_dict_path='e:\\\\INEURON_DATA\\\\CV\\\\ANPR_test\\\\anpr_test\\\\lib\\\\site-packages\\\\paddleocr\\\\ppocr\\\\utils\\\\en_dict.txt', use_space_char=True, vis_font_path='./doc/fonts/simfang.ttf', drop_score=0.5, e2e_algorithm='PGNet', e2e_model_dir=None, e2e_limit_side_len=768, e2e_limit_type='max', e2e_pgnet_score_thresh=0.5, e2e_char_dict_path='./ppocr/utils/ic15_dict.txt', e2e_pgnet_valid_set='totaltext', e2e_pgnet_mode='fast', use_angle_cls=True, cls_model_dir='C:\\\\Users\\\\Satya/.paddleocr/whl\\\\cls\\\\ch_ppocr_mobile_v2.0_cls_infer', cls_image_shape='3, 48, 192', label_list=['0', '180'], cls_batch_num=6, cls_thresh=0.9, enable_mkldnn=False, cpu_threads=10, use_pdserving=False, warmup=False, sr_model_dir=None, sr_image_shape='3, 32, 128', sr_batch_num=1, draw_img_save_dir='./inference_results', save_crop_res=False, crop_res_save_dir='./output', use_mp=False, total_process_num=1, process_id=0, benchmark=False, save_log_path='./log_output/', show_log=True, use_onnx=False, output='./output', table_max_len=488, table_algorithm='TableAttn', table_model_dir=None, merge_no_span_structure=True, table_char_dict_path=None, layout_model_dir=None, layout_dict_path=None, layout_score_threshold=0.5, layout_nms_threshold=0.5, kie_algorithm='LayoutXLM', ser_model_dir=None, re_model_dir=None, use_visual_backbone=True, ser_dict_path='../train_data/XFUND/class_list_xfun.txt', ocr_order_method=None, mode='structure', image_orientation=False, layout=True, table=True, ocr=True, recovery=False, use_pdf2docx_api=False, lang='en', det=True, rec=True, type='ocr', ocr_version='PP-OCRv3', structure_version='PP-Structurev2')\n"
     ]
    }
   ],
   "source": [
    "# Setup model\n",
    "ocr_method = PaddleOCR(lang='en',use_angle_cls=True)"
   ]
  },
  {
   "cell_type": "code",
   "execution_count": 7,
   "id": "928f4049",
   "metadata": {},
   "outputs": [],
   "source": [
    "image_path = '../ANPR_test/Outputs/no_plate.png'"
   ]
  },
  {
   "cell_type": "code",
   "execution_count": 8,
   "id": "40592bb8",
   "metadata": {},
   "outputs": [],
   "source": [
    "input_image_file = Image.open(image_path).convert('RGB')"
   ]
  },
  {
   "cell_type": "code",
   "execution_count": 9,
   "id": "06d457bd",
   "metadata": {},
   "outputs": [
    {
     "data": {
      "image/png": "[encoded data removed]",
      "text/plain": [
       "<PIL.Image.Image image mode=RGB size=350x250>"
      ]
     },
     "execution_count": 9,
     "metadata": {},
     "output_type": "execute_result"
    }
   ],
   "source": [
    "input_image_file"
   ]
  },
  {
   "cell_type": "code",
   "execution_count": 10,
   "id": "b2e8507f",
   "metadata": {},
   "outputs": [],
   "source": [
    "input_image_array = np.array(input_image_file)"
   ]
  },
  {
   "cell_type": "code",
   "execution_count": 11,
   "id": "e281922a",
   "metadata": {},
   "outputs": [
    {
     "name": "stdout",
     "output_type": "stream",
     "text": [
      "[2022/11/13 17:00:51] ppocr DEBUG: dt_boxes num : 9, elapse : 0.8636898994445801\n",
      "[2022/11/13 17:00:52] ppocr DEBUG: cls num  : 9, elapse : 0.4129297733306885\n",
      "[2022/11/13 17:00:52] ppocr DEBUG: rec_res num  : 9, elapse : 0.028955936431884766\n"
     ]
    }
   ],
   "source": [
    "# Run the ocr method on the ocr model\n",
    "result = ocr_method.ocr(input_image_array,cls=True)"
   ]
  },
  {
   "cell_type": "code",
   "execution_count": 12,
   "id": "9ec2234c",
   "metadata": {},
   "outputs": [
    {
     "name": "stdout",
     "output_type": "stream",
     "text": [
      "[[[[9.0, 103.0], [26.0, 103.0], [26.0, 115.0], [9.0, 115.0]], ('20', 0.9995955228805542)], [[[10.0, 126.0], [24.0, 126.0], [24.0, 139.0], [10.0, 139.0]], ('40', 0.9975007772445679)], [[[38.0, 118.0], [305.0, 102.0], [307.0, 142.0], [40.0, 158.0]], ('A 01 MR 8041', 0.8774028420448303)], [[[9.0, 150.0], [26.0, 150.0], [26.0, 163.0], [9.0, 163.0]], ('60', 0.9966042041778564)], [[[22.0, 175.0], [31.0, 175.0], [31.0, 185.0], [22.0, 185.0]], ('0', 0.871924638748169)], [[[132.0, 172.0], [158.0, 172.0], [158.0, 187.0], [132.0, 187.0]], ('100', 0.9995413422584534)], [[[253.0, 172.0], [277.0, 172.0], [277.0, 187.0], [253.0, 187.0]], ('200', 0.9997273087501526)], [[[94.0, 200.0], [271.0, 201.0], [271.0, 215.0], [93.0, 214.0]], ('Figure 15 Cropped image', 0.9523428082466125)]]\n"
     ]
    }
   ],
   "source": [
    "for line in result:\n",
    "    print(line)"
   ]
  },
  {
   "cell_type": "markdown",
   "id": "812567ac",
   "metadata": {},
   "source": [
    "#### Output will be a list, each item contains bounding box, text and recognition confidence"
   ]
  },
  {
   "cell_type": "code",
   "execution_count": 13,
   "id": "023d673a",
   "metadata": {},
   "outputs": [],
   "source": [
    "boxes = [line[0] for line in result]\n",
    "txts = [line[1][0] for line in result]\n",
    "scores = [line[1][1] for line in result]"
   ]
  },
  {
   "cell_type": "code",
   "execution_count": 14,
   "id": "833ce8ae",
   "metadata": {},
   "outputs": [
    {
     "name": "stdout",
     "output_type": "stream",
     "text": [
      "E:\\INEURON_DATA\\CV\\ANPR_test\n"
     ]
    }
   ],
   "source": [
    "ROOT = os.getcwd()\n",
    "print(ROOT)"
   ]
  },
  {
   "cell_type": "code",
   "execution_count": 15,
   "id": "42b536cd",
   "metadata": {},
   "outputs": [
    {
     "name": "stdout",
     "output_type": "stream",
     "text": [
      "E:\\INEURON_DATA\\CV\\ANPR_test\\PaddleOCR\\doc\\fonts\\latin.ttf\n"
     ]
    }
   ],
   "source": [
    "font_path = os.path.join(ROOT,'PaddleOCR','doc','fonts','latin.ttf')\n",
    "print(font_path)"
   ]
  },
  {
   "cell_type": "code",
   "execution_count": 16,
   "id": "7fc350ea",
   "metadata": {},
   "outputs": [
    {
     "ename": "TypeError",
     "evalue": "'<' not supported between instances of 'tuple' and 'str'",
     "output_type": "error",
     "traceback": [
      "\u001b[1;31m---------------------------------------------------------------------------\u001b[0m",
      "\u001b[1;31mTypeError\u001b[0m                                 Traceback (most recent call last)",
      "Cell \u001b[1;32mIn [16], line 1\u001b[0m\n\u001b[1;32m----> 1\u001b[0m im_show \u001b[38;5;241m=\u001b[39m \u001b[43mdraw_ocr\u001b[49m\u001b[43m(\u001b[49m\u001b[43minput_image_file\u001b[49m\u001b[43m,\u001b[49m\u001b[43m \u001b[49m\u001b[43mboxes\u001b[49m\u001b[43m,\u001b[49m\u001b[43m \u001b[49m\u001b[43mtxts\u001b[49m\u001b[43m,\u001b[49m\u001b[43m \u001b[49m\u001b[43mscores\u001b[49m\u001b[43m,\u001b[49m\u001b[43m \u001b[49m\u001b[43mfont_path\u001b[49m\u001b[43m)\u001b[49m\n",
      "File \u001b[1;32mE:\\INEURON_DATA\\CV\\ANPR_test\\anpr_test\\lib\\site-packages\\paddleocr\\tools\\infer\\utility.py:382\u001b[0m, in \u001b[0;36mdraw_ocr\u001b[1;34m(image, boxes, txts, scores, drop_score, font_path)\u001b[0m\n\u001b[0;32m    380\u001b[0m box_num \u001b[38;5;241m=\u001b[39m \u001b[38;5;28mlen\u001b[39m(boxes)\n\u001b[0;32m    381\u001b[0m \u001b[38;5;28;01mfor\u001b[39;00m i \u001b[38;5;129;01min\u001b[39;00m \u001b[38;5;28mrange\u001b[39m(box_num):\n\u001b[1;32m--> 382\u001b[0m     \u001b[38;5;28;01mif\u001b[39;00m scores \u001b[38;5;129;01mis\u001b[39;00m \u001b[38;5;129;01mnot\u001b[39;00m \u001b[38;5;28;01mNone\u001b[39;00m \u001b[38;5;129;01mand\u001b[39;00m (\u001b[43mscores\u001b[49m\u001b[43m[\u001b[49m\u001b[43mi\u001b[49m\u001b[43m]\u001b[49m\u001b[43m \u001b[49m\u001b[38;5;241;43m<\u001b[39;49m\u001b[43m \u001b[49m\u001b[43mdrop_score\u001b[49m \u001b[38;5;129;01mor\u001b[39;00m\n\u001b[0;32m    383\u001b[0m                                math\u001b[38;5;241m.\u001b[39misnan(scores[i])):\n\u001b[0;32m    384\u001b[0m         \u001b[38;5;28;01mcontinue\u001b[39;00m\n\u001b[0;32m    385\u001b[0m     box \u001b[38;5;241m=\u001b[39m np\u001b[38;5;241m.\u001b[39mreshape(np\u001b[38;5;241m.\u001b[39marray(boxes[i]), [\u001b[38;5;241m-\u001b[39m\u001b[38;5;241m1\u001b[39m, \u001b[38;5;241m1\u001b[39m, \u001b[38;5;241m2\u001b[39m])\u001b[38;5;241m.\u001b[39mastype(np\u001b[38;5;241m.\u001b[39mint64)\n",
      "\u001b[1;31mTypeError\u001b[0m: '<' not supported between instances of 'tuple' and 'str'"
     ]
    }
   ],
   "source": [
    "im_show = draw_ocr(input_image_file, boxes, txts, scores, font_path)"
   ]
  },
  {
   "cell_type": "code",
   "execution_count": null,
   "id": "cbb141f5",
   "metadata": {},
   "outputs": [],
   "source": [
    "print(boxes)"
   ]
  },
  {
   "cell_type": "code",
   "execution_count": null,
   "id": "7862eeaa",
   "metadata": {},
   "outputs": [],
   "source": [
    "print(txts)"
   ]
  },
  {
   "cell_type": "code",
   "execution_count": 17,
   "id": "e7d257dc",
   "metadata": {},
   "outputs": [
    {
     "name": "stdout",
     "output_type": "stream",
     "text": [
      "[('40', 0.9975007772445679)]\n"
     ]
    }
   ],
   "source": [
    "print(scores)"
   ]
  },
  {
   "cell_type": "code",
   "execution_count": null,
   "id": "4e003cac",
   "metadata": {},
   "outputs": [],
   "source": []
  }
 ],
 "metadata": {
  "kernelspec": {
   "display_name": "anpr_test",
   "language": "python",
   "name": "anpr_test"
  },
  "language_info": {
   "codemirror_mode": {
    "name": "ipython",
    "version": 3
   },
   "file_extension": ".py",
   "mimetype": "text/x-python",
   "name": "python",
   "nbconvert_exporter": "python",
   "pygments_lexer": "ipython3",
   "version": "3.9.13"
  }
 },
 "nbformat": 4,
 "nbformat_minor": 5
}
